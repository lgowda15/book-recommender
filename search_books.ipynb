{
 "cells": [
  {
   "cell_type": "code",
   "execution_count": 1,
   "id": "11dc46d1-d4a9-4310-be21-bdf1bff4e518",
   "metadata": {},
   "outputs": [
    {
     "data": {
      "text/plain": [
       "b'{\"isbn\": \"0312853122\", \"text_reviews_count\": \"1\", \"series\": [], \"country_code\": \"US\", \"language_code\": \"\", \"popular_shelves\": [{\"count\": \"3\", \"name\": \"to-read\"}, {\"count\": \"1\", \"name\": \"p\"}, {\"count\": \"1\", \"name\": \"collection\"}, {\"count\": \"1\", \"name\": \"w-c-fields\"}, {\"count\": \"1\", \"name\": \"biography\"}], \"asin\": \"\", \"is_ebook\": \"false\", \"average_rating\": \"4.00\", \"kindle_asin\": \"\", \"similar_books\": [], \"description\": \"\", \"format\": \"Paperback\", \"link\": \"https://www.goodreads.com/book/show/5333265-w-c-fields\", \"authors\": [{\"author_id\": \"604031\", \"role\": \"\"}], \"publisher\": \"St. Martin\\'s Press\", \"num_pages\": \"256\", \"publication_day\": \"1\", \"isbn13\": \"9780312853129\", \"publication_month\": \"9\", \"edition_information\": \"\", \"publication_year\": \"1984\", \"url\": \"https://www.goodreads.com/book/show/5333265-w-c-fields\", \"image_url\": \"https://images.gr-assets.com/books/1310220028m/5333265.jpg\", \"book_id\": \"5333265\", \"ratings_count\": \"3\", \"work_id\": \"5400751\", \"title\": \"W.C. Fields: A Life on Film\", \"title_without_series\": \"W.C. Fields: A Life on Film\"}\\n'"
      ]
     },
     "execution_count": 1,
     "metadata": {},
     "output_type": "execute_result"
    }
   ],
   "source": [
    "import gzip\n",
    "\n",
    "with gzip.open(\"goodreads_books.json.gz\", \"r\") as f:\n",
    "    line = f.readline()\n",
    "line"
   ]
  },
  {
   "cell_type": "code",
   "execution_count": 2,
   "id": "eaecce83-0bff-4752-8501-80e5360ad9d9",
   "metadata": {},
   "outputs": [
    {
     "data": {
      "text/plain": [
       "{'isbn': '0312853122',\n",
       " 'text_reviews_count': '1',\n",
       " 'series': [],\n",
       " 'country_code': 'US',\n",
       " 'language_code': '',\n",
       " 'popular_shelves': [{'count': '3', 'name': 'to-read'},\n",
       "  {'count': '1', 'name': 'p'},\n",
       "  {'count': '1', 'name': 'collection'},\n",
       "  {'count': '1', 'name': 'w-c-fields'},\n",
       "  {'count': '1', 'name': 'biography'}],\n",
       " 'asin': '',\n",
       " 'is_ebook': 'false',\n",
       " 'average_rating': '4.00',\n",
       " 'kindle_asin': '',\n",
       " 'similar_books': [],\n",
       " 'description': '',\n",
       " 'format': 'Paperback',\n",
       " 'link': 'https://www.goodreads.com/book/show/5333265-w-c-fields',\n",
       " 'authors': [{'author_id': '604031', 'role': ''}],\n",
       " 'publisher': \"St. Martin's Press\",\n",
       " 'num_pages': '256',\n",
       " 'publication_day': '1',\n",
       " 'isbn13': '9780312853129',\n",
       " 'publication_month': '9',\n",
       " 'edition_information': '',\n",
       " 'publication_year': '1984',\n",
       " 'url': 'https://www.goodreads.com/book/show/5333265-w-c-fields',\n",
       " 'image_url': 'https://images.gr-assets.com/books/1310220028m/5333265.jpg',\n",
       " 'book_id': '5333265',\n",
       " 'ratings_count': '3',\n",
       " 'work_id': '5400751',\n",
       " 'title': 'W.C. Fields: A Life on Film',\n",
       " 'title_without_series': 'W.C. Fields: A Life on Film'}"
      ]
     },
     "execution_count": 2,
     "metadata": {},
     "output_type": "execute_result"
    }
   ],
   "source": [
    "import json\n",
    "\n",
    "data = json.loads(line)\n",
    "data"
   ]
  },
  {
   "cell_type": "code",
   "execution_count": 3,
   "id": "ff0984da-8f82-4767-8601-560dae7487ba",
   "metadata": {},
   "outputs": [],
   "source": [
    "def parse_fields(line):\n",
    "    data = json.loads(line)\n",
    "    return {\n",
    "        \"book_id\": data[\"book_id\"], \n",
    "        \"title\": data[\"title_without_series\"], \n",
    "        \"ratings\": data[\"ratings_count\"], \n",
    "        \"url\": data[\"url\"], \n",
    "        \"cover_image\": data[\"image_url\"]\n",
    "    }"
   ]
  },
  {
   "cell_type": "code",
   "execution_count": 16,
   "id": "46e46b18-f204-485f-835a-816a8ddb2155",
   "metadata": {},
   "outputs": [],
   "source": [
    "book_titles = []\n",
    "with gzip.open('goodreads_books.json.gz', 'r') as f:\n",
    "    while True:\n",
    "        line = f.readline()\n",
    "        if not line:\n",
    "            break\n",
    "        fields = parse_fields(line)\n",
    "        try:\n",
    "            ratings = int(fields['ratings'])\n",
    "        except ValueError:\n",
    "            continue\n",
    "        if ratings > 5:\n",
    "            book_titles.append(fields)"
   ]
  },
  {
   "cell_type": "code",
   "execution_count": 5,
   "id": "8261215b-c781-40a5-aa6c-36f00b259eef",
   "metadata": {},
   "outputs": [],
   "source": [
    "import pandas as pd\n",
    "\n",
    "titles = pd.DataFrame.from_dict(book_titles)"
   ]
  },
  {
   "cell_type": "markdown",
   "id": "44513f98-15a9-4dae-b7cc-88dbfce23b97",
   "metadata": {},
   "source": [
    "Remove all non-alphanumeric characters and convert the titles to lowercase"
   ]
  },
  {
   "cell_type": "code",
   "execution_count": 6,
   "id": "e8b7507e-e70e-43ca-b9bd-c134300b348c",
   "metadata": {},
   "outputs": [],
   "source": [
    "titles['ratings'] = pd.to_numeric(titles['ratings'])"
   ]
  },
  {
   "cell_type": "code",
   "execution_count": 7,
   "id": "153c85a2-5afb-4d3a-9e7f-571dbc93fb0e",
   "metadata": {},
   "outputs": [],
   "source": [
    "titles['mod_title'] = titles['title'].str.replace(\"[^a-zA-Z0-9 ]\", \"\", regex=True)"
   ]
  },
  {
   "cell_type": "code",
   "execution_count": 8,
   "id": "6783e2bd-345b-476a-b7e1-6a20be9d5745",
   "metadata": {},
   "outputs": [],
   "source": [
    "titles['mod_title'] = titles['mod_title'].str.lower()"
   ]
  },
  {
   "cell_type": "code",
   "execution_count": 9,
   "id": "74764cfa-97ad-427f-921c-030561361edb",
   "metadata": {},
   "outputs": [],
   "source": [
    "titles[\"mod_title\"] = titles[\"mod_title\"].str.replace(\"\\s+\", \" \", regex=True)"
   ]
  },
  {
   "cell_type": "code",
   "execution_count": 10,
   "id": "a96327f7-1c29-4bce-a680-0912fc73f1c2",
   "metadata": {},
   "outputs": [],
   "source": [
    "titles = titles[titles[\"mod_title\"].str.len() > 0]"
   ]
  },
  {
   "cell_type": "code",
   "execution_count": 11,
   "id": "6cf52dcf-6aab-4cb2-b128-2b04e844946d",
   "metadata": {},
   "outputs": [],
   "source": [
    "titles.to_json(\"books_titles.json\")"
   ]
  },
  {
   "cell_type": "code",
   "execution_count": 12,
   "id": "ccfe434e-3269-4c10-a6e3-78a27b96b9e6",
   "metadata": {},
   "outputs": [
    {
     "data": {
      "text/html": [
       "<div>\n",
       "<style scoped>\n",
       "    .dataframe tbody tr th:only-of-type {\n",
       "        vertical-align: middle;\n",
       "    }\n",
       "\n",
       "    .dataframe tbody tr th {\n",
       "        vertical-align: top;\n",
       "    }\n",
       "\n",
       "    .dataframe thead th {\n",
       "        text-align: right;\n",
       "    }\n",
       "</style>\n",
       "<table border=\"1\" class=\"dataframe\">\n",
       "  <thead>\n",
       "    <tr style=\"text-align: right;\">\n",
       "      <th></th>\n",
       "      <th>book_id</th>\n",
       "      <th>title</th>\n",
       "      <th>ratings</th>\n",
       "      <th>url</th>\n",
       "      <th>cover_image</th>\n",
       "      <th>mod_title</th>\n",
       "    </tr>\n",
       "  </thead>\n",
       "  <tbody>\n",
       "    <tr>\n",
       "      <th>0</th>\n",
       "      <td>1333909</td>\n",
       "      <td>Good Harbor</td>\n",
       "      <td>10</td>\n",
       "      <td>https://www.goodreads.com/book/show/1333909.Go...</td>\n",
       "      <td>https://s.gr-assets.com/assets/nophoto/book/11...</td>\n",
       "      <td>good harbor</td>\n",
       "    </tr>\n",
       "    <tr>\n",
       "      <th>1</th>\n",
       "      <td>7327624</td>\n",
       "      <td>The Unschooled Wizard (Sun Wolf and Starhawk, ...</td>\n",
       "      <td>140</td>\n",
       "      <td>https://www.goodreads.com/book/show/7327624-th...</td>\n",
       "      <td>https://images.gr-assets.com/books/1304100136m...</td>\n",
       "      <td>the unschooled wizard sun wolf and starhawk 12</td>\n",
       "    </tr>\n",
       "    <tr>\n",
       "      <th>2</th>\n",
       "      <td>6066819</td>\n",
       "      <td>Best Friends Forever</td>\n",
       "      <td>51184</td>\n",
       "      <td>https://www.goodreads.com/book/show/6066819-be...</td>\n",
       "      <td>https://s.gr-assets.com/assets/nophoto/book/11...</td>\n",
       "      <td>best friends forever</td>\n",
       "    </tr>\n",
       "    <tr>\n",
       "      <th>3</th>\n",
       "      <td>287140</td>\n",
       "      <td>Runic Astrology: Starcraft and Timekeeping in ...</td>\n",
       "      <td>15</td>\n",
       "      <td>https://www.goodreads.com/book/show/287140.Run...</td>\n",
       "      <td>https://images.gr-assets.com/books/1413219371m...</td>\n",
       "      <td>runic astrology starcraft and timekeeping in t...</td>\n",
       "    </tr>\n",
       "    <tr>\n",
       "      <th>4</th>\n",
       "      <td>287141</td>\n",
       "      <td>The Aeneid for Boys and Girls</td>\n",
       "      <td>46</td>\n",
       "      <td>https://www.goodreads.com/book/show/287141.The...</td>\n",
       "      <td>https://s.gr-assets.com/assets/nophoto/book/11...</td>\n",
       "      <td>the aeneid for boys and girls</td>\n",
       "    </tr>\n",
       "    <tr>\n",
       "      <th>...</th>\n",
       "      <td>...</td>\n",
       "      <td>...</td>\n",
       "      <td>...</td>\n",
       "      <td>...</td>\n",
       "      <td>...</td>\n",
       "      <td>...</td>\n",
       "    </tr>\n",
       "    <tr>\n",
       "      <th>1782574</th>\n",
       "      <td>3084038</td>\n",
       "      <td>This Sceptred Isle, Vol. 10: The Age of Victor...</td>\n",
       "      <td>12</td>\n",
       "      <td>https://www.goodreads.com/book/show/3084038-th...</td>\n",
       "      <td>https://images.gr-assets.com/books/1494763458m...</td>\n",
       "      <td>this sceptred isle vol 10 the age of victoria ...</td>\n",
       "    </tr>\n",
       "    <tr>\n",
       "      <th>1782575</th>\n",
       "      <td>26168430</td>\n",
       "      <td>Sherlock Holmes and the July Crisis</td>\n",
       "      <td>6</td>\n",
       "      <td>https://www.goodreads.com/book/show/26168430-s...</td>\n",
       "      <td>https://images.gr-assets.com/books/1440592011m...</td>\n",
       "      <td>sherlock holmes and the july crisis</td>\n",
       "    </tr>\n",
       "    <tr>\n",
       "      <th>1782576</th>\n",
       "      <td>2342551</td>\n",
       "      <td>The Children's Classic Poetry Collection</td>\n",
       "      <td>36</td>\n",
       "      <td>https://www.goodreads.com/book/show/2342551.Th...</td>\n",
       "      <td>https://s.gr-assets.com/assets/nophoto/book/11...</td>\n",
       "      <td>the childrens classic poetry collection</td>\n",
       "    </tr>\n",
       "    <tr>\n",
       "      <th>1782577</th>\n",
       "      <td>22017381</td>\n",
       "      <td>101 Nights: Volume One (101 Nights, #1-3)</td>\n",
       "      <td>70</td>\n",
       "      <td>https://www.goodreads.com/book/show/22017381-1...</td>\n",
       "      <td>https://images.gr-assets.com/books/1398621236m...</td>\n",
       "      <td>101 nights volume one 101 nights 13</td>\n",
       "    </tr>\n",
       "    <tr>\n",
       "      <th>1782578</th>\n",
       "      <td>11419866</td>\n",
       "      <td>The Spanish Duke's Virgin Bride (Innocent Mist...</td>\n",
       "      <td>7</td>\n",
       "      <td>https://www.goodreads.com/book/show/11419866-t...</td>\n",
       "      <td>https://s.gr-assets.com/assets/nophoto/book/11...</td>\n",
       "      <td>the spanish dukes virgin bride innocent mistre...</td>\n",
       "    </tr>\n",
       "  </tbody>\n",
       "</table>\n",
       "<p>1773389 rows × 6 columns</p>\n",
       "</div>"
      ],
      "text/plain": [
       "          book_id                                              title  ratings  \\\n",
       "0         1333909                                        Good Harbor       10   \n",
       "1         7327624  The Unschooled Wizard (Sun Wolf and Starhawk, ...      140   \n",
       "2         6066819                               Best Friends Forever    51184   \n",
       "3          287140  Runic Astrology: Starcraft and Timekeeping in ...       15   \n",
       "4          287141                      The Aeneid for Boys and Girls       46   \n",
       "...           ...                                                ...      ...   \n",
       "1782574   3084038  This Sceptred Isle, Vol. 10: The Age of Victor...       12   \n",
       "1782575  26168430                Sherlock Holmes and the July Crisis        6   \n",
       "1782576   2342551           The Children's Classic Poetry Collection       36   \n",
       "1782577  22017381          101 Nights: Volume One (101 Nights, #1-3)       70   \n",
       "1782578  11419866  The Spanish Duke's Virgin Bride (Innocent Mist...        7   \n",
       "\n",
       "                                                       url  \\\n",
       "0        https://www.goodreads.com/book/show/1333909.Go...   \n",
       "1        https://www.goodreads.com/book/show/7327624-th...   \n",
       "2        https://www.goodreads.com/book/show/6066819-be...   \n",
       "3        https://www.goodreads.com/book/show/287140.Run...   \n",
       "4        https://www.goodreads.com/book/show/287141.The...   \n",
       "...                                                    ...   \n",
       "1782574  https://www.goodreads.com/book/show/3084038-th...   \n",
       "1782575  https://www.goodreads.com/book/show/26168430-s...   \n",
       "1782576  https://www.goodreads.com/book/show/2342551.Th...   \n",
       "1782577  https://www.goodreads.com/book/show/22017381-1...   \n",
       "1782578  https://www.goodreads.com/book/show/11419866-t...   \n",
       "\n",
       "                                               cover_image  \\\n",
       "0        https://s.gr-assets.com/assets/nophoto/book/11...   \n",
       "1        https://images.gr-assets.com/books/1304100136m...   \n",
       "2        https://s.gr-assets.com/assets/nophoto/book/11...   \n",
       "3        https://images.gr-assets.com/books/1413219371m...   \n",
       "4        https://s.gr-assets.com/assets/nophoto/book/11...   \n",
       "...                                                    ...   \n",
       "1782574  https://images.gr-assets.com/books/1494763458m...   \n",
       "1782575  https://images.gr-assets.com/books/1440592011m...   \n",
       "1782576  https://s.gr-assets.com/assets/nophoto/book/11...   \n",
       "1782577  https://images.gr-assets.com/books/1398621236m...   \n",
       "1782578  https://s.gr-assets.com/assets/nophoto/book/11...   \n",
       "\n",
       "                                                 mod_title  \n",
       "0                                              good harbor  \n",
       "1           the unschooled wizard sun wolf and starhawk 12  \n",
       "2                                     best friends forever  \n",
       "3        runic astrology starcraft and timekeeping in t...  \n",
       "4                            the aeneid for boys and girls  \n",
       "...                                                    ...  \n",
       "1782574  this sceptred isle vol 10 the age of victoria ...  \n",
       "1782575                sherlock holmes and the july crisis  \n",
       "1782576            the childrens classic poetry collection  \n",
       "1782577                101 nights volume one 101 nights 13  \n",
       "1782578  the spanish dukes virgin bride innocent mistre...  \n",
       "\n",
       "[1773389 rows x 6 columns]"
      ]
     },
     "execution_count": 12,
     "metadata": {},
     "output_type": "execute_result"
    }
   ],
   "source": [
    "titles"
   ]
  },
  {
   "cell_type": "code",
   "execution_count": 13,
   "id": "8adae3a5-dd49-4b65-a291-e4a46173bd66",
   "metadata": {},
   "outputs": [],
   "source": [
    "from sklearn.feature_extraction.text import TfidfVectorizer\n",
    "\n",
    "vectorizer = TfidfVectorizer()\n",
    "\n",
    "tfidf = vectorizer.fit_transform(titles['mod_title'])"
   ]
  },
  {
   "cell_type": "code",
   "execution_count": 14,
   "id": "25a302f8-4998-49b9-ade8-abd43a308d46",
   "metadata": {},
   "outputs": [],
   "source": [
    "from sklearn.metrics.pairwise import cosine_similarity\n",
    "import numpy as np\n",
    "import re\n",
    "\n",
    "def make_clickable(val):\n",
    "    return '<a target=\"_blank\" href=\"{}\">Goodreads</a>'.format(val, val)\n",
    "\n",
    "def show_image(val):\n",
    "    return '<a href=\"{}\"><img src=\"{}\" width=50></img></a>'.format(val, val)\n",
    "\n",
    "def search(query,vectorizer):\n",
    "    processed = re.sub(\"[^a-zA-Z0-9 ]\", \"\", query.lower())\n",
    "    query_vec = vectorizer.transform([query])\n",
    "    similarity = cosine_similarity(query_vec, tfidf).flatten()\n",
    "    indices = np.argpartition(similarity, -10)[-10:]\n",
    "    results = titles.iloc[indices]\n",
    "    results = results.sort_values(\"ratings\", ascending=False)\n",
    "    \n",
    "    return results.head(5).style.format({'url': make_clickable, 'cover_image': show_image})"
   ]
  },
  {
   "cell_type": "code",
   "execution_count": 28,
   "id": "f28cfb01-58d2-45c3-af05-8114083e7821",
   "metadata": {},
   "outputs": [
    {
     "data": {
      "text/html": [
       "<style type=\"text/css\">\n",
       "</style>\n",
       "<table id=\"T_8f802\">\n",
       "  <thead>\n",
       "    <tr>\n",
       "      <th class=\"blank level0\" >&nbsp;</th>\n",
       "      <th id=\"T_8f802_level0_col0\" class=\"col_heading level0 col0\" >book_id</th>\n",
       "      <th id=\"T_8f802_level0_col1\" class=\"col_heading level0 col1\" >title</th>\n",
       "      <th id=\"T_8f802_level0_col2\" class=\"col_heading level0 col2\" >ratings</th>\n",
       "      <th id=\"T_8f802_level0_col3\" class=\"col_heading level0 col3\" >url</th>\n",
       "      <th id=\"T_8f802_level0_col4\" class=\"col_heading level0 col4\" >cover_image</th>\n",
       "      <th id=\"T_8f802_level0_col5\" class=\"col_heading level0 col5\" >mod_title</th>\n",
       "    </tr>\n",
       "  </thead>\n",
       "  <tbody>\n",
       "    <tr>\n",
       "      <th id=\"T_8f802_level0_row0\" class=\"row_heading level0 row0\" >353829</th>\n",
       "      <td id=\"T_8f802_row0_col0\" class=\"data row0 col0\" >11084145</td>\n",
       "      <td id=\"T_8f802_row0_col1\" class=\"data row0 col1\" >Steve Jobs</td>\n",
       "      <td id=\"T_8f802_row0_col2\" class=\"data row0 col2\" >594067</td>\n",
       "      <td id=\"T_8f802_row0_col3\" class=\"data row0 col3\" ><a target=\"_blank\" href=\"https://www.goodreads.com/book/show/11084145-steve-jobs\">Goodreads</a></td>\n",
       "      <td id=\"T_8f802_row0_col4\" class=\"data row0 col4\" ><a href=\"https://images.gr-assets.com/books/1327861368m/11084145.jpg\"><img src=\"https://images.gr-assets.com/books/1327861368m/11084145.jpg\" width=50></img></a></td>\n",
       "      <td id=\"T_8f802_row0_col5\" class=\"data row0 col5\" >steve jobs</td>\n",
       "    </tr>\n",
       "    <tr>\n",
       "      <th id=\"T_8f802_level0_row1\" class=\"row_heading level0 row1\" >251877</th>\n",
       "      <td id=\"T_8f802_row1_col0\" class=\"data row1 col0\" >12005016</td>\n",
       "      <td id=\"T_8f802_row1_col1\" class=\"data row1 col1\" >Steve Jobs</td>\n",
       "      <td id=\"T_8f802_row1_col2\" class=\"data row1 col2\" >860</td>\n",
       "      <td id=\"T_8f802_row1_col3\" class=\"data row1 col3\" ><a target=\"_blank\" href=\"https://www.goodreads.com/book/show/12005016-steve-jobs\">Goodreads</a></td>\n",
       "      <td id=\"T_8f802_row1_col4\" class=\"data row1 col4\" ><a href=\"https://images.gr-assets.com/books/1313501847m/12005016.jpg\"><img src=\"https://images.gr-assets.com/books/1313501847m/12005016.jpg\" width=50></img></a></td>\n",
       "      <td id=\"T_8f802_row1_col5\" class=\"data row1 col5\" >steve jobs</td>\n",
       "    </tr>\n",
       "    <tr>\n",
       "      <th id=\"T_8f802_level0_row2\" class=\"row_heading level0 row2\" >136267</th>\n",
       "      <td id=\"T_8f802_row2_col0\" class=\"data row2 col0\" >18051086</td>\n",
       "      <td id=\"T_8f802_row2_col1\" class=\"data row2 col1\" >Steve Jobs</td>\n",
       "      <td id=\"T_8f802_row2_col2\" class=\"data row2 col2\" >414</td>\n",
       "      <td id=\"T_8f802_row2_col3\" class=\"data row2 col3\" ><a target=\"_blank\" href=\"https://www.goodreads.com/book/show/18051086-steve-jobs\">Goodreads</a></td>\n",
       "      <td id=\"T_8f802_row2_col4\" class=\"data row2 col4\" ><a href=\"https://images.gr-assets.com/books/1397768114m/18051086.jpg\"><img src=\"https://images.gr-assets.com/books/1397768114m/18051086.jpg\" width=50></img></a></td>\n",
       "      <td id=\"T_8f802_row2_col5\" class=\"data row2 col5\" >steve jobs</td>\n",
       "    </tr>\n",
       "    <tr>\n",
       "      <th id=\"T_8f802_level0_row3\" class=\"row_heading level0 row3\" >675294</th>\n",
       "      <td id=\"T_8f802_row3_col0\" class=\"data row3 col0\" >25897512</td>\n",
       "      <td id=\"T_8f802_row3_col1\" class=\"data row3 col1\" >Steve Jobs</td>\n",
       "      <td id=\"T_8f802_row3_col2\" class=\"data row3 col2\" >176</td>\n",
       "      <td id=\"T_8f802_row3_col3\" class=\"data row3 col3\" ><a target=\"_blank\" href=\"https://www.goodreads.com/book/show/25897512-steve-jobs\">Goodreads</a></td>\n",
       "      <td id=\"T_8f802_row3_col4\" class=\"data row3 col4\" ><a href=\"https://images.gr-assets.com/books/1439174933m/25897512.jpg\"><img src=\"https://images.gr-assets.com/books/1439174933m/25897512.jpg\" width=50></img></a></td>\n",
       "      <td id=\"T_8f802_row3_col5\" class=\"data row3 col5\" >steve jobs</td>\n",
       "    </tr>\n",
       "    <tr>\n",
       "      <th id=\"T_8f802_level0_row4\" class=\"row_heading level0 row4\" >1096702</th>\n",
       "      <td id=\"T_8f802_row4_col0\" class=\"data row4 col0\" >12808064</td>\n",
       "      <td id=\"T_8f802_row4_col1\" class=\"data row4 col1\" >Steve Jobs</td>\n",
       "      <td id=\"T_8f802_row4_col2\" class=\"data row4 col2\" >58</td>\n",
       "      <td id=\"T_8f802_row4_col3\" class=\"data row4 col3\" ><a target=\"_blank\" href=\"https://www.goodreads.com/book/show/12808064-steve-jobs\">Goodreads</a></td>\n",
       "      <td id=\"T_8f802_row4_col4\" class=\"data row4 col4\" ><a href=\"https://s.gr-assets.com/assets/nophoto/book/111x148-bcc042a9c91a29c1d680899eff700a03.png\"><img src=\"https://s.gr-assets.com/assets/nophoto/book/111x148-bcc042a9c91a29c1d680899eff700a03.png\" width=50></img></a></td>\n",
       "      <td id=\"T_8f802_row4_col5\" class=\"data row4 col5\" >steve jobs</td>\n",
       "    </tr>\n",
       "  </tbody>\n",
       "</table>\n"
      ],
      "text/plain": [
       "<pandas.io.formats.style.Styler at 0x1aed6a81b50>"
      ]
     },
     "execution_count": 28,
     "metadata": {},
     "output_type": "execute_result"
    }
   ],
   "source": [
    "search('steve jobs', vectorizer)"
   ]
  },
  {
   "cell_type": "code",
   "execution_count": null,
   "id": "24c727da-1f9c-41a2-ab38-216958df749d",
   "metadata": {},
   "outputs": [],
   "source": [
    "liked_books = ['3056089', '78129', '482060', '17204679', '6461017', '556323', '11084145']"
   ]
  }
 ],
 "metadata": {
  "kernelspec": {
   "display_name": "Python 3 (ipykernel)",
   "language": "python",
   "name": "python3"
  },
  "language_info": {
   "codemirror_mode": {
    "name": "ipython",
    "version": 3
   },
   "file_extension": ".py",
   "mimetype": "text/x-python",
   "name": "python",
   "nbconvert_exporter": "python",
   "pygments_lexer": "ipython3",
   "version": "3.11.4"
  }
 },
 "nbformat": 4,
 "nbformat_minor": 5
}
